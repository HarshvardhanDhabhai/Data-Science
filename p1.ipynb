{
 "cells": [
  {
   "cell_type": "code",
   "execution_count": 7,
   "id": "04dbc52a-7449-49d8-af14-5e608d3299ea",
   "metadata": {},
   "outputs": [
    {
     "data": {
      "text/plain": [
       "['Harshvardhan', [1, 2, 3, 4, 'ABCD'], 1.25, (1, 2, 3)]"
      ]
     },
     "execution_count": 7,
     "metadata": {},
     "output_type": "execute_result"
    }
   ],
   "source": [
    "# Q1\n",
    "v = [\"Harshvardhan\",[1,2,3,4,\"ABCD\"],1.25,(1,2,3)]\n",
    "v\n",
    "\n"
   ]
  },
  {
   "cell_type": "code",
   "execution_count": null,
   "id": "1db658f1-2d26-4d99-b173-197f03d464d8",
   "metadata": {},
   "outputs": [],
   "source": [
    "#Q2\n",
    "i)Str\n",
    "ii)Str\n",
    "iii)List\n",
    "iv)float"
   ]
  },
  {
   "cell_type": "code",
   "execution_count": null,
   "id": "7276224c-c94a-4689-93f4-9d3be927fee4",
   "metadata": {},
   "outputs": [],
   "source": [
    "#Q3\n",
    "i)used to divide 4/2 = 2\n",
    "ii)used to find remainder 4%2 = 0\n",
    "iii)used to divide and takes floor value 10//3 = 3\n",
    "iv)used to find the power 2**2 = 4"
   ]
  },
  {
   "cell_type": "code",
   "execution_count": 8,
   "id": "a181d166-3991-4f4a-8e89-b9391565dba2",
   "metadata": {},
   "outputs": [
    {
     "name": "stdout",
     "output_type": "stream",
     "text": [
      "1\n",
      "2\n",
      "3\n",
      "4.4\n",
      "Harshvardhan\n",
      "(3+7j)\n",
      "a\n",
      "b\n",
      "9\n",
      "10\n"
     ]
    }
   ],
   "source": [
    "#Q4\n",
    "l = [1,2,3,4.4,\"Harshvardhan\",3+7j,'a','b',9,10]\n",
    "for i in l:\n",
    "    print(i)"
   ]
  },
  {
   "cell_type": "code",
   "execution_count": 12,
   "id": "e116d893-a2d0-4c3a-880a-e2e95a50bf65",
   "metadata": {},
   "outputs": [
    {
     "name": "stdout",
     "output_type": "stream",
     "text": [
      "1\n"
     ]
    }
   ],
   "source": [
    "#Q5\n",
    "A = 10\n",
    "B = 2\n",
    "count = 0\n",
    "while A%B==0 :\n",
    "      A = A/B\n",
    "      count=count+1\n",
    "print(count)    \n",
    "    "
   ]
  },
  {
   "cell_type": "code",
   "execution_count": 14,
   "id": "89bf9ea2-7c4c-40da-b61b-36741e67e493",
   "metadata": {},
   "outputs": [
    {
     "name": "stdout",
     "output_type": "stream",
     "text": [
      "3\n",
      "6\n",
      "9\n",
      "12\n",
      "15\n",
      "18\n",
      "21\n",
      "24\n"
     ]
    }
   ],
   "source": [
    "#Q6\n",
    "l=[i for i in range(1,26)]\n",
    "for i in l :\n",
    "    if i % 3 == 0 :\n",
    "         print(i)\n",
    "    \n",
    "    "
   ]
  },
  {
   "cell_type": "code",
   "execution_count": 15,
   "id": "d4ba96bc-620c-431f-9907-440484b4372d",
   "metadata": {},
   "outputs": [
    {
     "data": {
      "text/plain": [
       "[1, 2, 3, 'Riya', 6]"
      ]
     },
     "execution_count": 15,
     "metadata": {},
     "output_type": "execute_result"
    }
   ],
   "source": [
    "#Q7\n",
    "#Mutable : it means that we can change their value after assigning\n",
    "#Immutable : we cannot change their value once assigned\n",
    "l = [1,2,3,4,6]\n",
    "l[3]='Riya'\n",
    "l"
   ]
  },
  {
   "cell_type": "code",
   "execution_count": 16,
   "id": "792e1cc3-b918-4542-b843-7f64f0f927c4",
   "metadata": {},
   "outputs": [
    {
     "ename": "TypeError",
     "evalue": "'str' object does not support item assignment",
     "output_type": "error",
     "traceback": [
      "\u001b[1;31m---------------------------------------------------------------------------\u001b[0m",
      "\u001b[1;31mTypeError\u001b[0m                                 Traceback (most recent call last)",
      "Cell \u001b[1;32mIn[16], line 3\u001b[0m\n\u001b[0;32m      1\u001b[0m \u001b[38;5;66;03m#but we cannot do this with Strings\u001b[39;00m\n\u001b[0;32m      2\u001b[0m s \u001b[38;5;241m=\u001b[39m\u001b[38;5;124m\"\u001b[39m\u001b[38;5;124mHarshvardhan\u001b[39m\u001b[38;5;124m\"\u001b[39m\n\u001b[1;32m----> 3\u001b[0m \u001b[43ms\u001b[49m\u001b[43m[\u001b[49m\u001b[38;5;241;43m4\u001b[39;49m\u001b[43m]\u001b[49m\u001b[38;5;241m=\u001b[39m\u001b[38;5;124m'\u001b[39m\u001b[38;5;124mv\u001b[39m\u001b[38;5;124m'\u001b[39m\n\u001b[0;32m      4\u001b[0m s\n",
      "\u001b[1;31mTypeError\u001b[0m: 'str' object does not support item assignment"
     ]
    }
   ],
   "source": [
    "#but we cannot do this with Strings\n",
    "s =\"Harshvardhan\"\n",
    "s[4]='v'\n",
    "s"
   ]
  },
  {
   "cell_type": "code",
   "execution_count": 17,
   "id": "ea31efbb-ecc8-44b1-8086-f44d16b0c7a7",
   "metadata": {},
   "outputs": [
    {
     "data": {
      "text/plain": [
       "'Harshvardhan'"
      ]
     },
     "execution_count": 17,
     "metadata": {},
     "output_type": "execute_result"
    }
   ],
   "source": [
    "s"
   ]
  },
  {
   "cell_type": "code",
   "execution_count": null,
   "id": "187e8130-8b1a-450a-ae79-d54d5e74a015",
   "metadata": {},
   "outputs": [],
   "source": []
  }
 ],
 "metadata": {
  "kernelspec": {
   "display_name": "Python 3 (ipykernel)",
   "language": "python",
   "name": "python3"
  },
  "language_info": {
   "codemirror_mode": {
    "name": "ipython",
    "version": 3
   },
   "file_extension": ".py",
   "mimetype": "text/x-python",
   "name": "python",
   "nbconvert_exporter": "python",
   "pygments_lexer": "ipython3",
   "version": "3.12.8"
  }
 },
 "nbformat": 4,
 "nbformat_minor": 5
}
